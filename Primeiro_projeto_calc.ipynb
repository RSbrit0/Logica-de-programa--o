{
  "cells": [
    {
      "cell_type": "markdown",
      "metadata": {
        "id": "view-in-github",
        "colab_type": "text"
      },
      "source": [
        "<a href=\"https://colab.research.google.com/github/RSbrit0/Logica-de-programa--o/blob/main/Primeiro_projeto_calc.ipynb\" target=\"_parent\"><img src=\"https://colab.research.google.com/assets/colab-badge.svg\" alt=\"Open In Colab\"/></a>"
      ]
    },
    {
      "cell_type": "code",
      "execution_count": null,
      "metadata": {
        "colab": {
          "background_save": true,
          "base_uri": "https://localhost:8080/"
        },
        "id": "g26j1_fopXYN",
        "outputId": "806d0114-cdb6-4cd4-f53f-b6da17a0e1f1"
      },
      "outputs": [
        {
          "name": "stdout",
          "output_type": "stream",
          "text": [
            "Escolha a operação:\n",
            "1. Soma (+)\n",
            "2. Subtração (-)\n",
            "3. Multiplicação (*)\n",
            "4. Divisão (/)\n",
            "Resultado da multiplicação: 55.0\n"
          ]
        }
      ],
      "source": [
        " def calculadora():\n",
        "    while True:\n",
        "        try:\n",
        "            # Pede para o usuário digitar dois números\n",
        "            num1 = float(input(\"Digite o primeiro número: \"))\n",
        "            num2 = float(input(\"Digite o segundo número: \"))\n",
        "\n",
        "            # Mostra as opções de operações\n",
        "            print(\"Escolha a operação:\")\n",
        "            print(\"1. Soma (+)\")\n",
        "            print(\"2. Subtração (-)\")\n",
        "            print(\"3. Multiplicação (*)\")\n",
        "            print(\"4. Divisão (/)\")\n",
        "\n",
        "\n",
        "\n",
        "            # Pede para o usuário escolher a operação\n",
        "            opcao = int(input(\"Digite o número da operação: \"))\n",
        "\n",
        "            # Realiza a operação escolhida\n",
        "            if opcao == 1:\n",
        "                resultado = num1 + num2\n",
        "                print(\"Resultado da soma:\", resultado)\n",
        "            elif opcao == 2:\n",
        "                resultado = num1 - num2\n",
        "                print(\"Resultado da subtração:\", resultado)\n",
        "            elif opcao == 3:\n",
        "                resultado = num1 * num2\n",
        "                print(\"Resultado da multiplicação:\", resultado)\n",
        "            elif opcao == 4:\n",
        "                if num2 == 0:\n",
        "                    print(\"Divisão por zero não é permitida.\")\n",
        "                else:\n",
        "                    resultado = num1 / num2\n",
        "                    print(\"Resultado da divisão:\", resultado)\n",
        "            elif opcao == 5:\n",
        "                resultado = num1 ** num2\n",
        "\n",
        "                print(\"Saindo...\")\n",
        "                break\n",
        "            else:\n",
        "                print(\"Opção inválida. Tente novamente.\")\n",
        "        except ValueError:\n",
        "            print(\"Entrada inválida. Por favor, digite apenas números.\")\n",
        "\n",
        "# Chama a função da calculadora\n",
        "calculadora()"
      ]
    }
  ],
  "metadata": {
    "colab": {
      "provenance": [],
      "authorship_tag": "ABX9TyMPLuylL7TAb+d+X9r1Q8dK",
      "include_colab_link": true
    },
    "kernelspec": {
      "display_name": "Python 3",
      "name": "python3"
    },
    "language_info": {
      "name": "python"
    }
  },
  "nbformat": 4,
  "nbformat_minor": 0
}